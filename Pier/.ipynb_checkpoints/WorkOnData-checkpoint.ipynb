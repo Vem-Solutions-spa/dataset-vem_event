{
 "cells": [
  {
   "cell_type": "markdown",
   "metadata": {},
   "source": [
    "Read the rows from the Viasat dataset, insert a row in a db table for every trip (start to stop, individuated by distance travelled)"
   ]
  },
  {
   "cell_type": "code",
   "execution_count": 16,
   "metadata": {},
   "outputs": [],
   "source": [
    "import pymysql, pymysql.cursors, csv, more_itertools"
   ]
  },
  {
   "cell_type": "code",
   "execution_count": 17,
   "metadata": {},
   "outputs": [],
   "source": [
    "db = None\n",
    "\n",
    "def get_db():\n",
    "    try:\n",
    "        db.close()\n",
    "    except Exception as e:\n",
    "        #out(e)\n",
    "        pass\n",
    "\n",
    "    db = pymysql.connect(host=\"192.168.56.1\",\n",
    "                         user=\"paul\",\n",
    "                         passwd=\"paul21\",\n",
    "                         db=\"bigdive\")\n",
    "    return db"
   ]
  },
  {
   "cell_type": "code",
   "execution_count": 18,
   "metadata": {},
   "outputs": [],
   "source": [
    "def out(*mex):\n",
    "    if(False):\n",
    "        for m in mex:\n",
    "            out(m)"
   ]
  },
  {
   "cell_type": "code",
   "execution_count": 19,
   "metadata": {},
   "outputs": [],
   "source": [
    "nr=0\n",
    "def insert_trip(db, data):\n",
    "    sql = \"\"\"INSERT INTO `trips` \n",
    "    (car_id, start_pos, end_pos, start_time, end_time, length, points, parking)\n",
    "    VALUES (%s, ST_PointFromText(%s), ST_PointFromText(%s), %s, %s, %s, ST_LineFromText(%s), %s)\"\"\"\n",
    "    \n",
    "    out(sql%data)\n",
    "    \n",
    "    global nr\n",
    "    with db.cursor() as cursor:\n",
    "        cursor.execute(sql, data)\n",
    "        nr+=1\n",
    "        if nr > 1000:\n",
    "            db.commit()\n",
    "            nr=0"
   ]
  },
  {
   "cell_type": "code",
   "execution_count": 20,
   "metadata": {},
   "outputs": [],
   "source": [
    "fieldnames = ['id', 'datetime', 'lat', 'long', 'speed', 'heading', 'gps_quality', 'event_type', 'abc', 'meters']\n",
    "\n",
    "def process_csv(db, file):\n",
    "    with open(file, newline='') as f:\n",
    "        reader = more_itertools.peekable(csv.DictReader(f, fieldnames=fieldnames))\n",
    "        points = []\n",
    "        start_row = None\n",
    "        end_row = None\n",
    "        oldlen = 0\n",
    "        curr_carid = 0\n",
    "        n = 0\n",
    "        prev_trip = None\n",
    "        \n",
    "        def process_points(points):\n",
    "            if len(points) == 1:\n",
    "                points.append(points[0])\n",
    "                \n",
    "            # processa i punti accumulati per il viaggio\n",
    "            out(\"\\nTrip car:\", curr_carid, points, \"\\n\")\n",
    "            # car_id, start_pos, end_pos, start_time, end_time, length, points\n",
    "            start_point = \"POINT(%f %f)\" % (float(start_row['long']), float(start_row['lat']))\n",
    "            end_point = \"POINT(%f %f)\" % (float(end_row['long']), float(end_row['lat']))\n",
    "            line = \"LINESTRING(%s)\" % \", \".join([\"%f %f\" % (float(a['long']), float(a['lat'])) for a in points])\n",
    "            insert_trip(db, (int(curr_carid), start_point, end_point, start_row['datetime'], end_row['datetime'], oldlen, line, 0))\n",
    "        \n",
    "        def process_stop(prev_trip):\n",
    "             # processa i punti accumulati per il viaggio\n",
    "            out(\"\\nStop car:\", curr_carid, \"\\n\")\n",
    "            # car_id, start_pos, end_pos, start_time, end_time, length, points\n",
    "            start_point = \"POINT(%f %f)\" % (float(prev_trip['long']), float(prev_trip['lat']))\n",
    "            end_point = \"POINT(%f %f)\" % (float(start_row['long']), float(start_row['lat']))\n",
    "            line = \"LINESTRING(%f %f, %f %f)\" % (float(prev_trip['long']), float(prev_trip['lat']), float(start_row['long']), float(start_row['lat']))\n",
    "            out(prev_trip)\n",
    "            insert_trip(db, (int(curr_carid), start_point, end_point, prev_trip['datetime'], start_row['datetime'], 0, line, 1))\n",
    "        \n",
    "        def process_csv_row(row):\n",
    "            points.append({'lat': row['lat'], 'long': row['long']})\n",
    "        \n",
    "        for row in reader:\n",
    "            if start_row is None:\n",
    "                start_row = row\n",
    "                \n",
    "            curr_carid = row['id']\n",
    "            n+=1\n",
    "            out(row)\n",
    "            process_csv_row(row)\n",
    "            \n",
    "            nomorerows = 0\n",
    "            \n",
    "            try:\n",
    "                reader.peek()\n",
    "            except StopIteration:\n",
    "                # no more rows\n",
    "                nomorerows = 1\n",
    "            \n",
    "            if nomorerows or reader.peek()['id'] != row['id'] :\n",
    "                end_row = row\n",
    "                if prev_trip is not None:\n",
    "                    process_stop(prev_trip)\n",
    "                process_points(points)\n",
    "                points = []\n",
    "                oldlen = 0\n",
    "                start_row = None\n",
    "                prev_trip = None\n",
    "                out(\"Nuova car\")\n",
    "            elif int(row['meters']) > int(reader.peek()['meters']):\n",
    "                end_row = row\n",
    "                if prev_trip is not None:\n",
    "                    process_stop(prev_trip)\n",
    "                process_points(points)\n",
    "                points = []\n",
    "                oldlen = 0\n",
    "                start_row = None\n",
    "                prev_trip = {\n",
    "                    'lat' : row['lat'],\n",
    "                    'long' : row['long'],\n",
    "                    'datetime' : row['datetime']\n",
    "                }\n",
    "            #if n == 100:\n",
    "            #    break\n",
    "                \n",
    "            oldlen = int(row['meters'])"
   ]
  },
  {
   "cell_type": "code",
   "execution_count": 21,
   "metadata": {},
   "outputs": [],
   "source": [
    "def use_db():\n",
    "    db = pymysql.connect(host=\"192.168.56.1\",\n",
    "                         user=\"paul\",\n",
    "                         passwd=\"paul21\",\n",
    "                         db=\"bigdive\")\n",
    "\n",
    "    try:\n",
    "        with db.cursor() as cursor:\n",
    "            sql = \"SELECT car_id, numpoints FROM cars limit 10\"\n",
    "            data = []\n",
    "            cursor.execute(sql, data)\n",
    "            result = cursor.fetchone()\n",
    "            out(result)\n",
    "    finally:\n",
    "        db.close()"
   ]
  },
  {
   "cell_type": "code",
   "execution_count": 22,
   "metadata": {
    "scrolled": true
   },
   "outputs": [
    {
     "name": "stdout",
     "output_type": "stream",
     "text": [
      "FINISH\n"
     ]
    }
   ],
   "source": [
    "try:\n",
    "    db = get_db()\n",
    "    process_csv(db, 'vem_dataset_filename.csv')\n",
    "finally:\n",
    "    db.commit()\n",
    "    db.close()\n",
    "    print(\"FINISH\")"
   ]
  },
  {
   "cell_type": "code",
   "execution_count": null,
   "metadata": {},
   "outputs": [],
   "source": []
  }
 ],
 "metadata": {
  "kernelspec": {
   "display_name": "Python 3",
   "language": "python",
   "name": "python3"
  },
  "language_info": {
   "codemirror_mode": {
    "name": "ipython",
    "version": 3
   },
   "file_extension": ".py",
   "mimetype": "text/x-python",
   "name": "python",
   "nbconvert_exporter": "python",
   "pygments_lexer": "ipython3",
   "version": "3.5.2"
  }
 },
 "nbformat": 4,
 "nbformat_minor": 1
}
