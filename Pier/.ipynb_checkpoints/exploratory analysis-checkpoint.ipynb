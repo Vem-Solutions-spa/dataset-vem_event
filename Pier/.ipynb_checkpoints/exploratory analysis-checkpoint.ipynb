{
 "cells": [
  {
   "cell_type": "markdown",
   "metadata": {},
   "source": [
    "Exploration of the trips dataset, obtained originally from a query on the mysql database created with the creation of the parkings dataset.ipynb notebook "
   ]
  },
  {
   "cell_type": "code",
   "execution_count": null,
   "metadata": {},
   "outputs": [],
   "source": [
    "import numpy as np, pandas as pd, pymysql, matplotlib, matplotlib.pyplot as plt, seaborn as sb"
   ]
  },
  {
   "cell_type": "code",
   "execution_count": null,
   "metadata": {},
   "outputs": [],
   "source": [
    "connection = pymysql.connect('194.116.76.192', 'bd7', 'bd7', 'final_project')\n",
    "jsonfile = \"data/trips.json\"\n",
    "\n",
    "def create_json():\n",
    "    data = pd.read_sql(\"\"\" SELECT car_id, start_time, end_time, nr_min, ST_X(start_pos) AS start_lon, ST_Y(start_pos) AS start_lat,\n",
    "                ST_X(end_pos) AS end_lon, ST_Y(end_pos) AS end_lat\n",
    "                FROM trips WHERE  start_time >= \"2017-06-01 06:23:02\" and end_time <= \"2017-06-07 07:35:44\"\n",
    "                and nr_min > 30 and nr_min < 1440 \"\"\", connection, parse_dates=[\"start_time\", \"end_time\"])\n",
    "    data.to_json(jsonfile)\n",
    "\n",
    "data.from_json(jsonfile)\n",
    "\n",
    "\"OK\""
   ]
  },
  {
   "cell_type": "code",
   "execution_count": null,
   "metadata": {},
   "outputs": [],
   "source": []
  },
  {
   "cell_type": "code",
   "execution_count": null,
   "metadata": {},
   "outputs": [],
   "source": [
    "data['nrmin_bin'] = pd.to_numeric(pd.cut(data['nr_min'], 10).apply(lambda x: x.left)) # , labels = range(1,11)"
   ]
  },
  {
   "cell_type": "code",
   "execution_count": null,
   "metadata": {},
   "outputs": [],
   "source": [
    "data['time_bin'] = pd.to_numeric(data['start_time'].dt.hour)"
   ]
  },
  {
   "cell_type": "code",
   "execution_count": null,
   "metadata": {},
   "outputs": [],
   "source": [
    "data.agg({'start_time' : [np.min, np.max]})"
   ]
  },
  {
   "cell_type": "code",
   "execution_count": null,
   "metadata": {},
   "outputs": [],
   "source": [
    "gb = data.groupby('time_bin').agg({'start_time' : [np.min, np.max, np.ma.count]})\n",
    "gb"
   ]
  },
  {
   "cell_type": "code",
   "execution_count": null,
   "metadata": {},
   "outputs": [],
   "source": [
    "gb.head(10)"
   ]
  },
  {
   "cell_type": "code",
   "execution_count": null,
   "metadata": {},
   "outputs": [],
   "source": [
    "gb['start_time']['count'].hist()"
   ]
  },
  {
   "cell_type": "code",
   "execution_count": null,
   "metadata": {},
   "outputs": [],
   "source": [
    "sb.distplot(gb['start_time']['count'])"
   ]
  },
  {
   "cell_type": "code",
   "execution_count": null,
   "metadata": {},
   "outputs": [],
   "source": [
    "data.head()"
   ]
  }
 ],
 "metadata": {
  "kernelspec": {
   "display_name": "Python 3",
   "language": "python",
   "name": "python3"
  },
  "language_info": {
   "codemirror_mode": {
    "name": "ipython",
    "version": 3
   },
   "file_extension": ".py",
   "mimetype": "text/x-python",
   "name": "python",
   "nbconvert_exporter": "python",
   "pygments_lexer": "ipython3",
   "version": "3.5.2"
  }
 },
 "nbformat": 4,
 "nbformat_minor": 2
}
